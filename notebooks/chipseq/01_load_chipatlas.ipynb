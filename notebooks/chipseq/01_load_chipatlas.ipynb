{
 "cells": [
  {
   "cell_type": "code",
   "execution_count": 1,
   "id": "b386c294-d71f-4c75-bd3d-cffe8fad0006",
   "metadata": {},
   "outputs": [],
   "source": [
    "%load_ext autoreload\n",
    "%autoreload 2"
   ]
  },
  {
   "cell_type": "code",
   "execution_count": 2,
   "id": "50264f9e-44fc-470c-aac4-b2d4823099c0",
   "metadata": {},
   "outputs": [],
   "source": [
    "import bindome"
   ]
  },
  {
   "cell_type": "code",
   "execution_count": 3,
   "id": "e5d25dc5-3f42-4f77-9b0f-949808b6a2dc",
   "metadata": {},
   "outputs": [],
   "source": [
    "bindome.constants.ANNOTATIONS_DIRECTORY = '../annotations'"
   ]
  },
  {
   "cell_type": "markdown",
   "id": "cf4541ea-1ee7-45e6-b70c-ca6cd322ffff",
   "metadata": {},
   "source": [
    "### Using ChIP-atlas: Datasets are available through this command"
   ]
  },
  {
   "cell_type": "code",
   "execution_count": 4,
   "id": "b75df275-e6f7-42af-9b0a-c1211306d0d3",
   "metadata": {},
   "outputs": [
    {
     "name": "stderr",
     "output_type": "stream",
     "text": [
      "/mnt/c/Users/ignacio.ibarra/Dropbox/workspace/theislab/bindome/bindome/datasets/chipatlas.py:26: DtypeWarning: Columns (6,23,24,25,26,27,28,29,30,31,32,33,34,35,36,37,38,39,40,41,42,43,44,45,46,47,48,49,50,51,52,53,54,55,56,57,58,59,60,61,62) have mixed types. Specify dtype option on import or set low_memory=False.\n",
      "  df = pd.read_csv(p, sep='\\t')\n"
     ]
    },
    {
     "name": "stdout",
     "output_type": "stream",
     "text": [
      "reading ../annotations/chipseq/chipatlas/experimentList_schema.tab\n"
     ]
    }
   ],
   "source": [
    "df = bindome.datasets.ChIPAtlas.get_experiments_list()"
   ]
  },
  {
   "cell_type": "code",
   "execution_count": 8,
   "id": "f8da0912-e0e0-4b56-8e8c-5c093f0063fa",
   "metadata": {},
   "outputs": [],
   "source": [
    "rm ../annotations/chipseq/chipatlas/peaks/hg38/SRX100395_5.bed.gz"
   ]
  },
  {
   "cell_type": "code",
   "execution_count": 9,
   "id": "43e2627c-1e2f-41bc-968e-5f72b3f59be2",
   "metadata": {},
   "outputs": [
    {
     "name": "stdout",
     "output_type": "stream",
     "text": [
      "querying in ChIP-atlas (peak thr (-log10(Q)=05)...\n",
      "saving to output... ../annotations/chipseq/chipatlas/peaks/hg38/SRX100395_5.bed.gz\n"
     ]
    }
   ],
   "source": [
    "peaks = bindome.datasets.ChIPAtlas.get_peaks('hg38', 'SRX100395')"
   ]
  },
  {
   "cell_type": "code",
   "execution_count": 10,
   "id": "d816ae60-4ea5-46a5-a078-67252e724489",
   "metadata": {},
   "outputs": [
    {
     "name": "stdout",
     "output_type": "stream",
     "text": [
      "loading from saved BED ../annotations/chipseq/chipatlas/peaks/hg38/SRX100395_5.bed.gz\n"
     ]
    }
   ],
   "source": [
    "peaks = bindome.datasets.ChIPAtlas.get_peaks('hg38', 'SRX100395')"
   ]
  },
  {
   "cell_type": "code",
   "execution_count": 11,
   "id": "b93691d6-ddc3-4a68-ae5a-8cdeea53285e",
   "metadata": {},
   "outputs": [
    {
     "data": {
      "text/html": [
       "<div>\n",
       "<style scoped>\n",
       "    .dataframe tbody tr th:only-of-type {\n",
       "        vertical-align: middle;\n",
       "    }\n",
       "\n",
       "    .dataframe tbody tr th {\n",
       "        vertical-align: top;\n",
       "    }\n",
       "\n",
       "    .dataframe thead th {\n",
       "        text-align: right;\n",
       "    }\n",
       "</style>\n",
       "<table border=\"1\" class=\"dataframe\">\n",
       "  <thead>\n",
       "    <tr style=\"text-align: right;\">\n",
       "      <th></th>\n",
       "      <th>0</th>\n",
       "      <th>1</th>\n",
       "      <th>2</th>\n",
       "      <th>3</th>\n",
       "      <th>4</th>\n",
       "      <th>5</th>\n",
       "      <th>6</th>\n",
       "      <th>7</th>\n",
       "      <th>8</th>\n",
       "      <th>9</th>\n",
       "      <th>10</th>\n",
       "      <th>11</th>\n",
       "    </tr>\n",
       "  </thead>\n",
       "  <tbody>\n",
       "    <tr>\n",
       "      <th>0</th>\n",
       "      <td>NaN</td>\n",
       "      <td>chr</td>\n",
       "      <td>start</td>\n",
       "      <td>end</td>\n",
       "      <td>id</td>\n",
       "      <td>score</td>\n",
       "      <td>.</td>\n",
       "      <td>fold.change</td>\n",
       "      <td>minus.log10.pval</td>\n",
       "      <td>minus.log10.qval</td>\n",
       "      <td>summit</td>\n",
       "      <td>k</td>\n",
       "    </tr>\n",
       "    <tr>\n",
       "      <th>1</th>\n",
       "      <td>0.0</td>\n",
       "      <td>chr1</td>\n",
       "      <td>10028</td>\n",
       "      <td>10236</td>\n",
       "      <td>SRX100395.05_peak_1</td>\n",
       "      <td>158</td>\n",
       "      <td>.</td>\n",
       "      <td>7.68246</td>\n",
       "      <td>19.74831</td>\n",
       "      <td>15.83492</td>\n",
       "      <td>151</td>\n",
       "      <td>chr1:10028-10236</td>\n",
       "    </tr>\n",
       "    <tr>\n",
       "      <th>2</th>\n",
       "      <td>1.0</td>\n",
       "      <td>chr1</td>\n",
       "      <td>29304</td>\n",
       "      <td>29432</td>\n",
       "      <td>SRX100395.05_peak_2</td>\n",
       "      <td>262</td>\n",
       "      <td>.</td>\n",
       "      <td>10.4538</td>\n",
       "      <td>30.45017</td>\n",
       "      <td>26.25724</td>\n",
       "      <td>67</td>\n",
       "      <td>chr1:29304-29432</td>\n",
       "    </tr>\n",
       "    <tr>\n",
       "      <th>3</th>\n",
       "      <td>2.0</td>\n",
       "      <td>chr1</td>\n",
       "      <td>180878</td>\n",
       "      <td>180996</td>\n",
       "      <td>SRX100395.05_peak_3</td>\n",
       "      <td>150</td>\n",
       "      <td>.</td>\n",
       "      <td>6.8543</td>\n",
       "      <td>18.89843</td>\n",
       "      <td>15.01087</td>\n",
       "      <td>45</td>\n",
       "      <td>chr1:180878-180996</td>\n",
       "    </tr>\n",
       "    <tr>\n",
       "      <th>4</th>\n",
       "      <td>3.0</td>\n",
       "      <td>chr1</td>\n",
       "      <td>199827</td>\n",
       "      <td>199979</td>\n",
       "      <td>SRX100395.05_peak_4</td>\n",
       "      <td>167</td>\n",
       "      <td>.</td>\n",
       "      <td>7.90494</td>\n",
       "      <td>20.70816</td>\n",
       "      <td>16.75878</td>\n",
       "      <td>82</td>\n",
       "      <td>chr1:199827-199979</td>\n",
       "    </tr>\n",
       "    <tr>\n",
       "      <th>...</th>\n",
       "      <td>...</td>\n",
       "      <td>...</td>\n",
       "      <td>...</td>\n",
       "      <td>...</td>\n",
       "      <td>...</td>\n",
       "      <td>...</td>\n",
       "      <td>...</td>\n",
       "      <td>...</td>\n",
       "      <td>...</td>\n",
       "      <td>...</td>\n",
       "      <td>...</td>\n",
       "      <td>...</td>\n",
       "    </tr>\n",
       "    <tr>\n",
       "      <th>8037</th>\n",
       "      <td>8036.0</td>\n",
       "      <td>chr9</td>\n",
       "      <td>138126617</td>\n",
       "      <td>138126988</td>\n",
       "      <td>SRX100395.05_peak_8037</td>\n",
       "      <td>129</td>\n",
       "      <td>.</td>\n",
       "      <td>5.9453</td>\n",
       "      <td>16.72705</td>\n",
       "      <td>12.93463</td>\n",
       "      <td>60</td>\n",
       "      <td>chr9:138126617-138126988</td>\n",
       "    </tr>\n",
       "    <tr>\n",
       "      <th>8038</th>\n",
       "      <td>8037.0</td>\n",
       "      <td>chr9_KI270718v1_random</td>\n",
       "      <td>35</td>\n",
       "      <td>279</td>\n",
       "      <td>SRX100395.05_peak_8038</td>\n",
       "      <td>528</td>\n",
       "      <td>.</td>\n",
       "      <td>20.13895</td>\n",
       "      <td>57.3891</td>\n",
       "      <td>52.80692</td>\n",
       "      <td>94</td>\n",
       "      <td>chr9_KI270718v1_random:35-279</td>\n",
       "    </tr>\n",
       "    <tr>\n",
       "      <th>8039</th>\n",
       "      <td>8038.0</td>\n",
       "      <td>chr9_KI270718v1_random</td>\n",
       "      <td>37409</td>\n",
       "      <td>37691</td>\n",
       "      <td>SRX100395.05_peak_8039</td>\n",
       "      <td>215</td>\n",
       "      <td>.</td>\n",
       "      <td>9.00833</td>\n",
       "      <td>25.67815</td>\n",
       "      <td>21.58853</td>\n",
       "      <td>170</td>\n",
       "      <td>chr9_KI270718v1_random:37409-37691</td>\n",
       "    </tr>\n",
       "    <tr>\n",
       "      <th>8040</th>\n",
       "      <td>8039.0</td>\n",
       "      <td>chr9_KI270718v1_random</td>\n",
       "      <td>37731</td>\n",
       "      <td>38054</td>\n",
       "      <td>SRX100395.05_peak_8040</td>\n",
       "      <td>276</td>\n",
       "      <td>.</td>\n",
       "      <td>10.56674</td>\n",
       "      <td>31.90873</td>\n",
       "      <td>27.68763</td>\n",
       "      <td>122</td>\n",
       "      <td>chr9_KI270718v1_random:37731-38054</td>\n",
       "    </tr>\n",
       "    <tr>\n",
       "      <th>8041</th>\n",
       "      <td>8040.0</td>\n",
       "      <td>chr9_KI270719v1_random</td>\n",
       "      <td>164353</td>\n",
       "      <td>164482</td>\n",
       "      <td>SRX100395.05_peak_8041</td>\n",
       "      <td>87</td>\n",
       "      <td>.</td>\n",
       "      <td>5.91866</td>\n",
       "      <td>12.23128</td>\n",
       "      <td>8.70952</td>\n",
       "      <td>77</td>\n",
       "      <td>chr9_KI270719v1_random:164353-164482</td>\n",
       "    </tr>\n",
       "  </tbody>\n",
       "</table>\n",
       "<p>8042 rows × 12 columns</p>\n",
       "</div>"
      ],
      "text/plain": [
       "          0                       1          2          3   \\\n",
       "0        NaN                     chr      start        end   \n",
       "1        0.0                    chr1      10028      10236   \n",
       "2        1.0                    chr1      29304      29432   \n",
       "3        2.0                    chr1     180878     180996   \n",
       "4        3.0                    chr1     199827     199979   \n",
       "...      ...                     ...        ...        ...   \n",
       "8037  8036.0                    chr9  138126617  138126988   \n",
       "8038  8037.0  chr9_KI270718v1_random         35        279   \n",
       "8039  8038.0  chr9_KI270718v1_random      37409      37691   \n",
       "8040  8039.0  chr9_KI270718v1_random      37731      38054   \n",
       "8041  8040.0  chr9_KI270719v1_random     164353     164482   \n",
       "\n",
       "                          4      5  6            7                 8   \\\n",
       "0                         id  score  .  fold.change  minus.log10.pval   \n",
       "1        SRX100395.05_peak_1    158  .      7.68246          19.74831   \n",
       "2        SRX100395.05_peak_2    262  .      10.4538          30.45017   \n",
       "3        SRX100395.05_peak_3    150  .       6.8543          18.89843   \n",
       "4        SRX100395.05_peak_4    167  .      7.90494          20.70816   \n",
       "...                      ...    ... ..          ...               ...   \n",
       "8037  SRX100395.05_peak_8037    129  .       5.9453          16.72705   \n",
       "8038  SRX100395.05_peak_8038    528  .     20.13895           57.3891   \n",
       "8039  SRX100395.05_peak_8039    215  .      9.00833          25.67815   \n",
       "8040  SRX100395.05_peak_8040    276  .     10.56674          31.90873   \n",
       "8041  SRX100395.05_peak_8041     87  .      5.91866          12.23128   \n",
       "\n",
       "                    9       10                                    11  \n",
       "0     minus.log10.qval  summit                                     k  \n",
       "1             15.83492     151                      chr1:10028-10236  \n",
       "2             26.25724      67                      chr1:29304-29432  \n",
       "3             15.01087      45                    chr1:180878-180996  \n",
       "4             16.75878      82                    chr1:199827-199979  \n",
       "...                ...     ...                                   ...  \n",
       "8037          12.93463      60              chr9:138126617-138126988  \n",
       "8038          52.80692      94         chr9_KI270718v1_random:35-279  \n",
       "8039          21.58853     170    chr9_KI270718v1_random:37409-37691  \n",
       "8040          27.68763     122    chr9_KI270718v1_random:37731-38054  \n",
       "8041           8.70952      77  chr9_KI270719v1_random:164353-164482  \n",
       "\n",
       "[8042 rows x 12 columns]"
      ]
     },
     "execution_count": 11,
     "metadata": {},
     "output_type": "execute_result"
    }
   ],
   "source": [
    "peaks"
   ]
  }
 ],
 "metadata": {
  "kernelspec": {
   "display_name": "Python [conda env:multibind]",
   "language": "python",
   "name": "conda-env-multibind-py"
  },
  "language_info": {
   "codemirror_mode": {
    "name": "ipython",
    "version": 3
   },
   "file_extension": ".py",
   "mimetype": "text/x-python",
   "name": "python",
   "nbconvert_exporter": "python",
   "pygments_lexer": "ipython3",
   "version": "3.10.4"
  }
 },
 "nbformat": 4,
 "nbformat_minor": 5
}
