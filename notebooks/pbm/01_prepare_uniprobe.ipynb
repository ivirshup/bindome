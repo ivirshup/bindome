{
 "cells": [
  {
   "cell_type": "code",
   "execution_count": 4,
   "id": "d72b0f7a-c88b-4e63-87f6-c37b62a92396",
   "metadata": {},
   "outputs": [],
   "source": [
    "%load_ext autoreload\n",
    "%autoreload 2"
   ]
  },
  {
   "cell_type": "code",
   "execution_count": 17,
   "id": "bf9dd801-005b-4f1d-b93f-2c50175551d3",
   "metadata": {},
   "outputs": [],
   "source": [
    "import pandas as pd\n",
    "import bindome as bd\n",
    "from os.path import join\n",
    "import os\n",
    "import anndata"
   ]
  },
  {
   "cell_type": "markdown",
   "id": "1d0d32e7-940d-49c1-b4ae-5674edae51e6",
   "metadata": {},
   "source": [
    "## Load h5ad file (if already processed)"
   ]
  },
  {
   "cell_type": "code",
   "execution_count": 18,
   "id": "4efffbfd-0461-49e6-b97d-20594ebd3cf6",
   "metadata": {},
   "outputs": [],
   "source": [
    "bd.constants.ANNOTATIONS_DIRECTORY = '../annotations'"
   ]
  },
  {
   "cell_type": "code",
   "execution_count": 19,
   "id": "85b1fb4f-84c8-464a-97e6-fc16b4e1f29c",
   "metadata": {},
   "outputs": [
    {
     "name": "stderr",
     "output_type": "stream",
     "text": [
      "/home/rio/miniconda3/envs/multibind/lib/python3.10/site-packages/anndata/_core/anndata.py:1828: UserWarning: Observation names are not unique. To make them unique, call `.obs_names_make_unique`.\n",
      "  utils.warn_names_duplicates(\"obs\")\n"
     ]
    }
   ],
   "source": [
    "ad = bd.datasets.PBM.uniprobe()"
   ]
  },
  {
   "cell_type": "markdown",
   "id": "37652e0e-b767-4934-b519-f27abdbca4cf",
   "metadata": {},
   "source": [
    "### Prepare h5ad file (if not exists)"
   ]
  },
  {
   "cell_type": "code",
   "execution_count": 20,
   "id": "f4481020-8755-43b7-93d1-3e40b9150f35",
   "metadata": {},
   "outputs": [],
   "source": [
    "import warnings\n",
    "warnings.filterwarnings(\"ignore\")"
   ]
  },
  {
   "cell_type": "code",
   "execution_count": null,
   "id": "541626a9-2da6-4fd5-817e-08a165d296a9",
   "metadata": {},
   "outputs": [
    {
     "name": "stdout",
     "output_type": "stream",
     "text": [
      "CB11\n",
      "../annotations/uniprobe/All_deBruijn/CB11/LUX_015681_rep1_combinatorial.txt\n",
      "../annotations/uniprobe/All_deBruijn/CB11/LUX_015681_rep2_combinatorial.txt\n",
      "../annotations/uniprobe/All_deBruijn/CB11/LUX_015681_rep3_combinatorial.txt\n",
      "../annotations/uniprobe/All_deBruijn/CB11/LUX_016060_rep1_combinatorial.txt\n",
      "../annotations/uniprobe/All_deBruijn/CB11/LUX_016060_rep2_combinatorial.txt\n",
      "../annotations/uniprobe/All_deBruijn/CB11/LUX_016060_rep3_combinatorial.txt\n",
      "Cell08\n",
      "../annotations/uniprobe/All_deBruijn/Cell08/Alx3_3418.2_deBruijn.txt\n",
      "../annotations/uniprobe/All_deBruijn/Cell08/Alx4_1744.1_deBruijn.txt\n",
      "../annotations/uniprobe/All_deBruijn/Cell08/Arx_1738.2_deBruijn.txt\n",
      "../annotations/uniprobe/All_deBruijn/Cell08/Bapx1_2343.1_deBruijn.txt\n",
      "../annotations/uniprobe/All_deBruijn/Cell08/Barhl1_2590.2_deBruijn.txt\n",
      "../annotations/uniprobe/All_deBruijn/Cell08/Barhl2_3868.1_deBruijn.txt\n",
      "../annotations/uniprobe/All_deBruijn/Cell08/Barx1_2877.1_deBruijn.txt\n",
      "../annotations/uniprobe/All_deBruijn/Cell08/Barx2_3447.2_deBruijn.txt\n",
      "../annotations/uniprobe/All_deBruijn/Cell08/Bsx_3483.2_deBruijn.txt\n",
      "../annotations/uniprobe/All_deBruijn/Cell08/Cart1_0997.1_deBruijn.txt\n",
      "../annotations/uniprobe/All_deBruijn/Cell08/Cart1_1275.1_deBruijn.txt\n",
      "../annotations/uniprobe/All_deBruijn/Cell08/Cdx1_2245.1_deBruijn.txt\n",
      "../annotations/uniprobe/All_deBruijn/Cell08/Cdx2_4272.1_deBruijn.txt\n",
      "../annotations/uniprobe/All_deBruijn/Cell08/Cphx_3484.1_deBruijn.txt\n",
      "../annotations/uniprobe/All_deBruijn/Cell08/Crx_3485.1_deBruijn.txt\n",
      "../annotations/uniprobe/All_deBruijn/Cell08/Cutl1_3494.1_deBruijn.txt\n",
      "../annotations/uniprobe/All_deBruijn/Cell08/Cutl1_3494.2_deBruijn.txt\n",
      "../annotations/uniprobe/All_deBruijn/Cell08/Dbx1_3486.1_deBruijn.txt\n",
      "../annotations/uniprobe/All_deBruijn/Cell08/Dbx2_3487.1_deBruijn.txt\n",
      "../annotations/uniprobe/All_deBruijn/Cell08/Dlx1_1741.2_deBruijn.txt\n",
      "../annotations/uniprobe/All_deBruijn/Cell08/Dlx2_2273.2_deBruijn.txt\n",
      "../annotations/uniprobe/All_deBruijn/Cell08/Dlx3_1030.1_deBruijn.txt\n",
      "../annotations/uniprobe/All_deBruijn/Cell08/Dlx4_3488.2_deBruijn.txt\n",
      "../annotations/uniprobe/All_deBruijn/Cell08/Dlx5_3419.2_deBruijn.txt\n",
      "../annotations/uniprobe/All_deBruijn/Cell08/Dmbx1_2277.1_deBruijn.txt\n",
      "../annotations/uniprobe/All_deBruijn/Cell08/Dobox4_3956.2_deBruijn.txt\n",
      "../annotations/uniprobe/All_deBruijn/Cell08/Dobox5_3493.1_deBruijn.txt\n",
      "../annotations/uniprobe/All_deBruijn/Cell08/Duxl_1286.2_deBruijn.txt\n",
      "../annotations/uniprobe/All_deBruijn/Cell08/Emx2_3420.1_deBruijn.txt\n",
      "../annotations/uniprobe/All_deBruijn/Cell08/En1_3123.2_deBruijn.txt\n",
      "../annotations/uniprobe/All_deBruijn/Cell08/En2_0952.1_deBruijn.txt\n",
      "../annotations/uniprobe/All_deBruijn/Cell08/Esx1_3124.2_deBruijn.txt\n",
      "../annotations/uniprobe/All_deBruijn/Cell08/Evx1_3952.2_deBruijn.txt\n",
      "../annotations/uniprobe/All_deBruijn/Cell08/Evx2_2645.3_deBruijn.txt\n",
      "../annotations/uniprobe/All_deBruijn/Cell08/Gbx1_2883.2_deBruijn.txt\n",
      "../annotations/uniprobe/All_deBruijn/Cell08/Gbx2_3110.1_deBruijn.txt\n",
      "../annotations/uniprobe/All_deBruijn/Cell08/Gsc_2327.3_deBruijn.txt\n",
      "../annotations/uniprobe/All_deBruijn/Cell08/Gsh2_3990.2_deBruijn.txt\n",
      "../annotations/uniprobe/All_deBruijn/Cell08/Hdx_3845.3_deBruijn.txt\n",
      "../annotations/uniprobe/All_deBruijn/Cell08/Hlx1_2350.1_deBruijn.txt\n",
      "../annotations/uniprobe/All_deBruijn/Cell08/Hlxb9_3422.1_deBruijn.txt\n",
      "../annotations/uniprobe/All_deBruijn/Cell08/Hmbox1_2674.1_deBruijn.txt\n",
      "../annotations/uniprobe/All_deBruijn/Cell08/Hmx1_3423.1_deBruijn.txt\n",
      "../annotations/uniprobe/All_deBruijn/Cell08/Hmx2_3424.3_deBruijn.txt\n",
      "../annotations/uniprobe/All_deBruijn/Cell08/Hmx3_3490.2_deBruijn.txt\n",
      "../annotations/uniprobe/All_deBruijn/Cell08/Homez_1063.2_deBruijn.txt\n",
      "../annotations/uniprobe/All_deBruijn/Cell08/Hoxa10_2318.1_deBruijn.txt\n",
      "../annotations/uniprobe/All_deBruijn/Cell08/Hoxa11_2218.1_deBruijn.txt\n",
      "../annotations/uniprobe/All_deBruijn/Cell08/Hoxa13_3126.1_deBruijn.txt\n",
      "../annotations/uniprobe/All_deBruijn/Cell08/Hoxa1_3425.1_deBruijn.txt\n",
      "../annotations/uniprobe/All_deBruijn/Cell08/Hoxa2_3079.1_deBruijn.txt\n",
      "../annotations/uniprobe/All_deBruijn/Cell08/Hoxa3_2783.2_deBruijn.txt\n",
      "../annotations/uniprobe/All_deBruijn/Cell08/Hoxa4_3426.1_deBruijn.txt\n",
      "../annotations/uniprobe/All_deBruijn/Cell08/Hoxa5_3415.1_deBruijn.txt\n",
      "../annotations/uniprobe/All_deBruijn/Cell08/Hoxa6_1040.1_deBruijn.txt\n",
      "../annotations/uniprobe/All_deBruijn/Cell08/Hoxa7_2668.2_deBruijn.txt\n",
      "../annotations/uniprobe/All_deBruijn/Cell08/Hoxa7_3750.1_deBruijn.txt\n"
     ]
    }
   ],
   "source": [
    "uniprobe = os.path.join(bd.constants.ANNOTATIONS_DIRECTORY, 'uniprobe', 'All_deBruijn')\n",
    "ad = []\n",
    "for f1 in os.listdir(uniprobe):\n",
    "    df = []\n",
    "    if f1.endswith('.zip'):\n",
    "        continue\n",
    "    print(f1)\n",
    "    next_dir = join(uniprobe, f1)\n",
    "    for f2 in os.listdir(next_dir):\n",
    "        p = join(next_dir, f2)\n",
    "        print(p)\n",
    "        df2 = pd.read_csv(p, sep='\\t', header=None)\n",
    "        # print(p, df.shape)\n",
    "        df2.columns = ['intensity', 'sequence'] if 'A' in df2[1].values[0] else ['intensity', 'sequence'][::-1]\n",
    "        df2 = df2[~df2['sequence'].str.contains('Sequence')]\n",
    "        df2['filename'] = f2.replace('.txt', '')\n",
    "        df2['intensity'] = df2['intensity'].astype(str).str.len() > 0\n",
    "        df2['intensity'] = df2['intensity'].astype(float)\n",
    "        df2['dataset.id'] = f1\n",
    "        \n",
    "        # remove duplicates\n",
    "        df2['k'] = df2['dataset.id'] + ':' + df2['filename']\n",
    "        df2['k2'] = (df2['k'] + ':' + df2['sequence'])\n",
    "        df2 = df2.drop_duplicates('k2')\n",
    "        # print(df2.shape)\n",
    "        df.append(df2)\n",
    "        # if len(df) >= 1:\n",
    "        #     break\n",
    "    \n",
    "    df = pd.concat(df).reset_index(drop=True)\n",
    "    \n",
    "    ad2 = anndata.AnnData(df.pivot('filename', 'sequence', 'intensity'))\n",
    "    ad2.obs['dataset.id'] = f1\n",
    "    ad.append(ad2)\n",
    "\n",
    "ad = anndata.concat(ad, join='outer')\n",
    "\n",
    "print(ad.shape)\n",
    "ad.write(join(bd.constants.ANNOTATIONS_DIRECTORY, 'uniprobe', 'All_deBruijn.h5ad'), compression='lzf')"
   ]
  }
 ],
 "metadata": {
  "kernelspec": {
   "display_name": "Python [conda env:multibind]",
   "language": "python",
   "name": "conda-env-multibind-py"
  },
  "language_info": {
   "codemirror_mode": {
    "name": "ipython",
    "version": 3
   },
   "file_extension": ".py",
   "mimetype": "text/x-python",
   "name": "python",
   "nbconvert_exporter": "python",
   "pygments_lexer": "ipython3",
   "version": "3.10.4"
  }
 },
 "nbformat": 4,
 "nbformat_minor": 5
}
